{
 "cells": [
  {
   "cell_type": "code",
   "execution_count": 31,
   "id": "3a47d2c2",
   "metadata": {},
   "outputs": [],
   "source": [
    "import random\n",
    "from IPython.display import clear_output"
   ]
  },
  {
   "cell_type": "code",
   "execution_count": 36,
   "id": "36e55cde",
   "metadata": {},
   "outputs": [
    {
     "name": "stdout",
     "output_type": "stream",
     "text": [
      "\n",
      " v is a wrong guess! You have lost 1 life!\n",
      "\n",
      "  +---+\n",
      "  |   |\n",
      "  O   |\n",
      " /|\\  |\n",
      " / \\  |\n",
      "      |\n",
      "=========\n",
      "\n",
      "_ _ i _ _ _ a _ c _ \n",
      "\n",
      "You lost!\n",
      "\n",
      "-----------------------------------------------\n",
      "\n",
      "The chosen word is wristwatch\n"
     ]
    }
   ],
   "source": [
    "%store -r logo\n",
    "%store -r stages\n",
    "%store -r words\n",
    "\n",
    "print(logo)\n",
    "print('')\n",
    "print('-----------------------------------------------')\n",
    "word = random.choice(words)\n",
    "blanks = ['_' for _ in range(len(word))]\n",
    "\n",
    "life = 6\n",
    "end = False\n",
    "while not end:\n",
    "    \n",
    "    print('')\n",
    "    print('Word to guess:')\n",
    "    print(' '.join(blanks))\n",
    "    print('')\n",
    "    guess = input('Your guess:\\n').lower()\n",
    "    clear_output(wait = False)\n",
    "    \n",
    "    if guess in blanks:\n",
    "        print(f'\\nYou have already guessed {guess}!')\n",
    "        \n",
    "    else:\n",
    "        for position in range(len(word)):\n",
    "            letter = word[position]\n",
    "            if letter == guess:\n",
    "                print('Correct!')\n",
    "                blanks[position] = letter\n",
    "         \n",
    "    if guess not in word:    \n",
    "        print(f'\\n {guess} is a wrong guess! You have lost 1 life!')\n",
    "        life -= 1\n",
    "    \n",
    "    print(stages[life])\n",
    "    print(' '.join(blanks), '\\n')\n",
    "    \n",
    "    if '_' not in blanks:\n",
    "        print('You won!\\n')\n",
    "        end = True\n",
    "    \n",
    "    if life == 0:\n",
    "        print('You lost!\\n')\n",
    "        end = True\n",
    "        \n",
    "    print('-----------------------------------------------\\n')\n",
    "print('The chosen word is {}'.format(word))"
   ]
  }
 ],
 "metadata": {
  "kernelspec": {
   "display_name": "Python 3",
   "language": "python",
   "name": "python3"
  },
  "language_info": {
   "codemirror_mode": {
    "name": "ipython",
    "version": 3
   },
   "file_extension": ".py",
   "mimetype": "text/x-python",
   "name": "python",
   "nbconvert_exporter": "python",
   "pygments_lexer": "ipython3",
   "version": "3.8.11"
  }
 },
 "nbformat": 4,
 "nbformat_minor": 5
}
